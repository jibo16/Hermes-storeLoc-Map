{
 "cells": [
  {
   "cell_type": "code",
   "execution_count": 1,
   "id": "28a65ee5",
   "metadata": {
    "_cell_guid": "b1076dfc-b9ad-4769-8c92-a6c4dae69d19",
    "_uuid": "8f2839f25d086af736a60e9eeb907d3b93b6e0e5",
    "execution": {
     "iopub.execute_input": "2022-11-07T21:01:16.185373Z",
     "iopub.status.busy": "2022-11-07T21:01:16.184920Z",
     "iopub.status.idle": "2022-11-07T21:01:16.772068Z",
     "shell.execute_reply": "2022-11-07T21:01:16.770606Z"
    },
    "papermill": {
     "duration": 0.596905,
     "end_time": "2022-11-07T21:01:16.774815",
     "exception": false,
     "start_time": "2022-11-07T21:01:16.177910",
     "status": "completed"
    },
    "tags": []
   },
   "outputs": [
    {
     "name": "stderr",
     "output_type": "stream",
     "text": [
      "/opt/conda/lib/python3.7/site-packages/geopandas/_compat.py:115: UserWarning: The Shapely GEOS version (3.9.1-CAPI-1.14.2) is incompatible with the GEOS version PyGEOS was compiled with (3.10.3-CAPI-1.16.1). Conversions between both will be slow.\n",
      "  shapely_geos_version, geos_capi_version_string\n"
     ]
    },
    {
     "name": "stdout",
     "output_type": "stream",
     "text": [
      "/kaggle/input/airbnb-mexico-city/calendar.csv\n",
      "/kaggle/input/airbnb-mexico-city/listings.csv\n",
      "/kaggle/input/airbnb-mexico-city/neighbourhoods.geojson\n",
      "/kaggle/input/airbnb-mexico-city/reviews.csv\n"
     ]
    }
   ],
   "source": [
    "# This Python 3 environment comes with many helpful analytics libraries installed\n",
    "# It is defined by the kaggle/python Docker image: https://github.com/kaggle/docker-python\n",
    "# For example, here's several helpful packages to load\n",
    "\n",
    "import numpy as np # linear algebra\n",
    "import pandas as pd # data processing, CSV file I/O (e.g. pd.read_csv)\n",
    "import geopandas as gpd\n",
    "\n",
    "# Input data files are available in the read-only \"../input/\" directory\n",
    "# For example, running this (by clicking run or pressing Shift+Enter) will list all files under the input directory\n",
    "\n",
    "import os\n",
    "for dirname, _, filenames in os.walk('/kaggle/input'):\n",
    "    for filename in filenames:\n",
    "        print(os.path.join(dirname, filename))\n",
    "\n",
    "# You can write up to 20GB to the current directory (/kaggle/working/) that gets preserved as output when you create a version using \"Save & Run All\" \n",
    "# You can also write temporary files to /kaggle/temp/, but they won't be saved outside of the current session"
   ]
  },
  {
   "cell_type": "markdown",
   "id": "0854f252",
   "metadata": {
    "papermill": {
     "duration": 0.00357,
     "end_time": "2022-11-07T21:01:16.782641",
     "exception": false,
     "start_time": "2022-11-07T21:01:16.779071",
     "status": "completed"
    },
    "tags": []
   },
   "source": [
    "## Practice of ML with analysis for Airbnb in mexico city"
   ]
  },
  {
   "cell_type": "code",
   "execution_count": 2,
   "id": "63e14f9c",
   "metadata": {
    "execution": {
     "iopub.execute_input": "2022-11-07T21:01:16.792071Z",
     "iopub.status.busy": "2022-11-07T21:01:16.791660Z",
     "iopub.status.idle": "2022-11-07T21:01:35.410415Z",
     "shell.execute_reply": "2022-11-07T21:01:35.409432Z"
    },
    "papermill": {
     "duration": 18.626587,
     "end_time": "2022-11-07T21:01:35.413042",
     "exception": false,
     "start_time": "2022-11-07T21:01:16.786455",
     "status": "completed"
    },
    "tags": []
   },
   "outputs": [],
   "source": [
    "calendar_df = pd.read_csv(\"/kaggle/input/airbnb-mexico-city/calendar.csv\")\n",
    "listings_df = pd.read_csv(\"/kaggle/input/airbnb-mexico-city/listings.csv\")\n",
    "reviews_df = pd.read_csv(\"/kaggle/input/airbnb-mexico-city/reviews.csv\")"
   ]
  },
  {
   "cell_type": "code",
   "execution_count": 3,
   "id": "4d7e28a9",
   "metadata": {
    "execution": {
     "iopub.execute_input": "2022-11-07T21:01:35.423287Z",
     "iopub.status.busy": "2022-11-07T21:01:35.422217Z",
     "iopub.status.idle": "2022-11-07T21:01:35.443558Z",
     "shell.execute_reply": "2022-11-07T21:01:35.442457Z"
    },
    "papermill": {
     "duration": 0.02878,
     "end_time": "2022-11-07T21:01:35.445832",
     "exception": false,
     "start_time": "2022-11-07T21:01:35.417052",
     "status": "completed"
    },
    "tags": []
   },
   "outputs": [
    {
     "data": {
      "text/html": [
       "<div>\n",
       "<style scoped>\n",
       "    .dataframe tbody tr th:only-of-type {\n",
       "        vertical-align: middle;\n",
       "    }\n",
       "\n",
       "    .dataframe tbody tr th {\n",
       "        vertical-align: top;\n",
       "    }\n",
       "\n",
       "    .dataframe thead th {\n",
       "        text-align: right;\n",
       "    }\n",
       "</style>\n",
       "<table border=\"1\" class=\"dataframe\">\n",
       "  <thead>\n",
       "    <tr style=\"text-align: right;\">\n",
       "      <th></th>\n",
       "      <th>listing_id</th>\n",
       "      <th>date</th>\n",
       "      <th>available</th>\n",
       "      <th>price</th>\n",
       "      <th>adjusted_price</th>\n",
       "      <th>minimum_nights</th>\n",
       "      <th>maximum_nights</th>\n",
       "    </tr>\n",
       "  </thead>\n",
       "  <tbody>\n",
       "    <tr>\n",
       "      <th>0</th>\n",
       "      <td>35797</td>\n",
       "      <td>2022-09-22</td>\n",
       "      <td>f</td>\n",
       "      <td>$4,001.00</td>\n",
       "      <td>$4,001.00</td>\n",
       "      <td>1.0</td>\n",
       "      <td>7.0</td>\n",
       "    </tr>\n",
       "    <tr>\n",
       "      <th>1</th>\n",
       "      <td>35797</td>\n",
       "      <td>2022-09-23</td>\n",
       "      <td>f</td>\n",
       "      <td>$4,001.00</td>\n",
       "      <td>$4,001.00</td>\n",
       "      <td>1.0</td>\n",
       "      <td>7.0</td>\n",
       "    </tr>\n",
       "    <tr>\n",
       "      <th>2</th>\n",
       "      <td>35797</td>\n",
       "      <td>2022-09-24</td>\n",
       "      <td>t</td>\n",
       "      <td>$4,001.00</td>\n",
       "      <td>$4,001.00</td>\n",
       "      <td>1.0</td>\n",
       "      <td>7.0</td>\n",
       "    </tr>\n",
       "    <tr>\n",
       "      <th>3</th>\n",
       "      <td>35797</td>\n",
       "      <td>2022-09-25</td>\n",
       "      <td>t</td>\n",
       "      <td>$4,001.00</td>\n",
       "      <td>$4,001.00</td>\n",
       "      <td>1.0</td>\n",
       "      <td>7.0</td>\n",
       "    </tr>\n",
       "    <tr>\n",
       "      <th>4</th>\n",
       "      <td>35797</td>\n",
       "      <td>2022-09-26</td>\n",
       "      <td>t</td>\n",
       "      <td>$4,001.00</td>\n",
       "      <td>$4,001.00</td>\n",
       "      <td>1.0</td>\n",
       "      <td>7.0</td>\n",
       "    </tr>\n",
       "  </tbody>\n",
       "</table>\n",
       "</div>"
      ],
      "text/plain": [
       "   listing_id        date available      price adjusted_price  minimum_nights  \\\n",
       "0       35797  2022-09-22         f  $4,001.00      $4,001.00             1.0   \n",
       "1       35797  2022-09-23         f  $4,001.00      $4,001.00             1.0   \n",
       "2       35797  2022-09-24         t  $4,001.00      $4,001.00             1.0   \n",
       "3       35797  2022-09-25         t  $4,001.00      $4,001.00             1.0   \n",
       "4       35797  2022-09-26         t  $4,001.00      $4,001.00             1.0   \n",
       "\n",
       "   maximum_nights  \n",
       "0             7.0  \n",
       "1             7.0  \n",
       "2             7.0  \n",
       "3             7.0  \n",
       "4             7.0  "
      ]
     },
     "execution_count": 3,
     "metadata": {},
     "output_type": "execute_result"
    }
   ],
   "source": [
    "calendar_df.head()"
   ]
  },
  {
   "cell_type": "code",
   "execution_count": 4,
   "id": "cf7a0289",
   "metadata": {
    "execution": {
     "iopub.execute_input": "2022-11-07T21:01:35.455316Z",
     "iopub.status.busy": "2022-11-07T21:01:35.454941Z",
     "iopub.status.idle": "2022-11-07T21:01:35.484283Z",
     "shell.execute_reply": "2022-11-07T21:01:35.483130Z"
    },
    "papermill": {
     "duration": 0.037145,
     "end_time": "2022-11-07T21:01:35.487140",
     "exception": false,
     "start_time": "2022-11-07T21:01:35.449995",
     "status": "completed"
    },
    "tags": []
   },
   "outputs": [
    {
     "data": {
      "text/html": [
       "<div>\n",
       "<style scoped>\n",
       "    .dataframe tbody tr th:only-of-type {\n",
       "        vertical-align: middle;\n",
       "    }\n",
       "\n",
       "    .dataframe tbody tr th {\n",
       "        vertical-align: top;\n",
       "    }\n",
       "\n",
       "    .dataframe thead th {\n",
       "        text-align: right;\n",
       "    }\n",
       "</style>\n",
       "<table border=\"1\" class=\"dataframe\">\n",
       "  <thead>\n",
       "    <tr style=\"text-align: right;\">\n",
       "      <th></th>\n",
       "      <th>id</th>\n",
       "      <th>listing_url</th>\n",
       "      <th>scrape_id</th>\n",
       "      <th>last_scraped</th>\n",
       "      <th>source</th>\n",
       "      <th>name</th>\n",
       "      <th>description</th>\n",
       "      <th>neighborhood_overview</th>\n",
       "      <th>picture_url</th>\n",
       "      <th>host_id</th>\n",
       "      <th>...</th>\n",
       "      <th>review_scores_communication</th>\n",
       "      <th>review_scores_location</th>\n",
       "      <th>review_scores_value</th>\n",
       "      <th>license</th>\n",
       "      <th>instant_bookable</th>\n",
       "      <th>calculated_host_listings_count</th>\n",
       "      <th>calculated_host_listings_count_entire_homes</th>\n",
       "      <th>calculated_host_listings_count_private_rooms</th>\n",
       "      <th>calculated_host_listings_count_shared_rooms</th>\n",
       "      <th>reviews_per_month</th>\n",
       "    </tr>\n",
       "  </thead>\n",
       "  <tbody>\n",
       "    <tr>\n",
       "      <th>0</th>\n",
       "      <td>35797</td>\n",
       "      <td>https://www.airbnb.com/rooms/35797</td>\n",
       "      <td>20220922013610</td>\n",
       "      <td>2022-09-22</td>\n",
       "      <td>city scrape</td>\n",
       "      <td>Villa Dante</td>\n",
       "      <td>Dentro de Villa un estudio de arte con futon, ...</td>\n",
       "      <td>Centro comercial Santa Fe, parque interlomas y...</td>\n",
       "      <td>https://a0.muscache.com/pictures/f395ab78-1185...</td>\n",
       "      <td>153786</td>\n",
       "      <td>...</td>\n",
       "      <td>NaN</td>\n",
       "      <td>NaN</td>\n",
       "      <td>NaN</td>\n",
       "      <td>NaN</td>\n",
       "      <td>f</td>\n",
       "      <td>1</td>\n",
       "      <td>1</td>\n",
       "      <td>0</td>\n",
       "      <td>0</td>\n",
       "      <td>NaN</td>\n",
       "    </tr>\n",
       "    <tr>\n",
       "      <th>1</th>\n",
       "      <td>783480</td>\n",
       "      <td>https://www.airbnb.com/rooms/783480</td>\n",
       "      <td>20220922013610</td>\n",
       "      <td>2022-09-22</td>\n",
       "      <td>city scrape</td>\n",
       "      <td>Area Sta.Fe,IberoABC Hospital Rooms</td>\n",
       "      <td>&lt;b&gt;The space&lt;/b&gt;&lt;br /&gt;Two beautifully furnishe...</td>\n",
       "      <td>The neighborhood is very quiet. There are smal...</td>\n",
       "      <td>https://a0.muscache.com/pictures/12600230/eec8...</td>\n",
       "      <td>4129056</td>\n",
       "      <td>...</td>\n",
       "      <td>4.93</td>\n",
       "      <td>4.70</td>\n",
       "      <td>4.85</td>\n",
       "      <td>NaN</td>\n",
       "      <td>t</td>\n",
       "      <td>2</td>\n",
       "      <td>0</td>\n",
       "      <td>2</td>\n",
       "      <td>0</td>\n",
       "      <td>0.26</td>\n",
       "    </tr>\n",
       "    <tr>\n",
       "      <th>2</th>\n",
       "      <td>796477</td>\n",
       "      <td>https://www.airbnb.com/rooms/796477</td>\n",
       "      <td>20220922013610</td>\n",
       "      <td>2022-09-23</td>\n",
       "      <td>city scrape</td>\n",
       "      <td>Classic but Modern Apartment in Condesa</td>\n",
       "      <td>Spacious and comfortable room on historic buil...</td>\n",
       "      <td>Condesa is surrounded by important museums and...</td>\n",
       "      <td>https://a0.muscache.com/pictures/58251607/70e9...</td>\n",
       "      <td>4195771</td>\n",
       "      <td>...</td>\n",
       "      <td>4.91</td>\n",
       "      <td>4.96</td>\n",
       "      <td>4.71</td>\n",
       "      <td>NaN</td>\n",
       "      <td>f</td>\n",
       "      <td>1</td>\n",
       "      <td>0</td>\n",
       "      <td>1</td>\n",
       "      <td>0</td>\n",
       "      <td>1.52</td>\n",
       "    </tr>\n",
       "    <tr>\n",
       "      <th>3</th>\n",
       "      <td>44616</td>\n",
       "      <td>https://www.airbnb.com/rooms/44616</td>\n",
       "      <td>20220922013610</td>\n",
       "      <td>2022-09-23</td>\n",
       "      <td>city scrape</td>\n",
       "      <td>CONDESA HAUS  B&amp;B</td>\n",
       "      <td>A new concept of hosting in mexico through a b...</td>\n",
       "      <td>NaN</td>\n",
       "      <td>https://a0.muscache.com/pictures/251410/ec75fe...</td>\n",
       "      <td>196253</td>\n",
       "      <td>...</td>\n",
       "      <td>4.75</td>\n",
       "      <td>4.98</td>\n",
       "      <td>4.47</td>\n",
       "      <td>NaN</td>\n",
       "      <td>f</td>\n",
       "      <td>12</td>\n",
       "      <td>3</td>\n",
       "      <td>2</td>\n",
       "      <td>0</td>\n",
       "      <td>0.44</td>\n",
       "    </tr>\n",
       "    <tr>\n",
       "      <th>4</th>\n",
       "      <td>817291</td>\n",
       "      <td>https://www.airbnb.com/rooms/817291</td>\n",
       "      <td>20220922013610</td>\n",
       "      <td>2022-09-22</td>\n",
       "      <td>city scrape</td>\n",
       "      <td>Live Mexico City Like a Small Town</td>\n",
       "      <td>Beautiful and cozy apartment in Mexico City, w...</td>\n",
       "      <td>Please check the guidebook. We have posted man...</td>\n",
       "      <td>https://a0.muscache.com/pictures/556d81f5-5aef...</td>\n",
       "      <td>4017148</td>\n",
       "      <td>...</td>\n",
       "      <td>4.95</td>\n",
       "      <td>4.63</td>\n",
       "      <td>4.78</td>\n",
       "      <td>NaN</td>\n",
       "      <td>f</td>\n",
       "      <td>1</td>\n",
       "      <td>1</td>\n",
       "      <td>0</td>\n",
       "      <td>0</td>\n",
       "      <td>0.51</td>\n",
       "    </tr>\n",
       "  </tbody>\n",
       "</table>\n",
       "<p>5 rows × 75 columns</p>\n",
       "</div>"
      ],
      "text/plain": [
       "       id                          listing_url       scrape_id last_scraped  \\\n",
       "0   35797   https://www.airbnb.com/rooms/35797  20220922013610   2022-09-22   \n",
       "1  783480  https://www.airbnb.com/rooms/783480  20220922013610   2022-09-22   \n",
       "2  796477  https://www.airbnb.com/rooms/796477  20220922013610   2022-09-23   \n",
       "3   44616   https://www.airbnb.com/rooms/44616  20220922013610   2022-09-23   \n",
       "4  817291  https://www.airbnb.com/rooms/817291  20220922013610   2022-09-22   \n",
       "\n",
       "        source                                     name  \\\n",
       "0  city scrape                              Villa Dante   \n",
       "1  city scrape      Area Sta.Fe,IberoABC Hospital Rooms   \n",
       "2  city scrape  Classic but Modern Apartment in Condesa   \n",
       "3  city scrape                        CONDESA HAUS  B&B   \n",
       "4  city scrape       Live Mexico City Like a Small Town   \n",
       "\n",
       "                                         description  \\\n",
       "0  Dentro de Villa un estudio de arte con futon, ...   \n",
       "1  <b>The space</b><br />Two beautifully furnishe...   \n",
       "2  Spacious and comfortable room on historic buil...   \n",
       "3  A new concept of hosting in mexico through a b...   \n",
       "4  Beautiful and cozy apartment in Mexico City, w...   \n",
       "\n",
       "                               neighborhood_overview  \\\n",
       "0  Centro comercial Santa Fe, parque interlomas y...   \n",
       "1  The neighborhood is very quiet. There are smal...   \n",
       "2  Condesa is surrounded by important museums and...   \n",
       "3                                                NaN   \n",
       "4  Please check the guidebook. We have posted man...   \n",
       "\n",
       "                                         picture_url  host_id  ...  \\\n",
       "0  https://a0.muscache.com/pictures/f395ab78-1185...   153786  ...   \n",
       "1  https://a0.muscache.com/pictures/12600230/eec8...  4129056  ...   \n",
       "2  https://a0.muscache.com/pictures/58251607/70e9...  4195771  ...   \n",
       "3  https://a0.muscache.com/pictures/251410/ec75fe...   196253  ...   \n",
       "4  https://a0.muscache.com/pictures/556d81f5-5aef...  4017148  ...   \n",
       "\n",
       "  review_scores_communication review_scores_location review_scores_value  \\\n",
       "0                         NaN                    NaN                 NaN   \n",
       "1                        4.93                   4.70                4.85   \n",
       "2                        4.91                   4.96                4.71   \n",
       "3                        4.75                   4.98                4.47   \n",
       "4                        4.95                   4.63                4.78   \n",
       "\n",
       "  license instant_bookable calculated_host_listings_count  \\\n",
       "0     NaN                f                              1   \n",
       "1     NaN                t                              2   \n",
       "2     NaN                f                              1   \n",
       "3     NaN                f                             12   \n",
       "4     NaN                f                              1   \n",
       "\n",
       "  calculated_host_listings_count_entire_homes  \\\n",
       "0                                           1   \n",
       "1                                           0   \n",
       "2                                           0   \n",
       "3                                           3   \n",
       "4                                           1   \n",
       "\n",
       "  calculated_host_listings_count_private_rooms  \\\n",
       "0                                            0   \n",
       "1                                            2   \n",
       "2                                            1   \n",
       "3                                            2   \n",
       "4                                            0   \n",
       "\n",
       "  calculated_host_listings_count_shared_rooms reviews_per_month  \n",
       "0                                           0               NaN  \n",
       "1                                           0              0.26  \n",
       "2                                           0              1.52  \n",
       "3                                           0              0.44  \n",
       "4                                           0              0.51  \n",
       "\n",
       "[5 rows x 75 columns]"
      ]
     },
     "execution_count": 4,
     "metadata": {},
     "output_type": "execute_result"
    }
   ],
   "source": [
    "listings_df.head()"
   ]
  },
  {
   "cell_type": "code",
   "execution_count": 5,
   "id": "89a5a21a",
   "metadata": {
    "execution": {
     "iopub.execute_input": "2022-11-07T21:01:35.498149Z",
     "iopub.status.busy": "2022-11-07T21:01:35.497737Z",
     "iopub.status.idle": "2022-11-07T21:01:35.509977Z",
     "shell.execute_reply": "2022-11-07T21:01:35.508808Z"
    },
    "papermill": {
     "duration": 0.02058,
     "end_time": "2022-11-07T21:01:35.512313",
     "exception": false,
     "start_time": "2022-11-07T21:01:35.491733",
     "status": "completed"
    },
    "tags": []
   },
   "outputs": [
    {
     "data": {
      "text/html": [
       "<div>\n",
       "<style scoped>\n",
       "    .dataframe tbody tr th:only-of-type {\n",
       "        vertical-align: middle;\n",
       "    }\n",
       "\n",
       "    .dataframe tbody tr th {\n",
       "        vertical-align: top;\n",
       "    }\n",
       "\n",
       "    .dataframe thead th {\n",
       "        text-align: right;\n",
       "    }\n",
       "</style>\n",
       "<table border=\"1\" class=\"dataframe\">\n",
       "  <thead>\n",
       "    <tr style=\"text-align: right;\">\n",
       "      <th></th>\n",
       "      <th>listing_id</th>\n",
       "      <th>id</th>\n",
       "      <th>date</th>\n",
       "      <th>reviewer_id</th>\n",
       "      <th>reviewer_name</th>\n",
       "      <th>comments</th>\n",
       "    </tr>\n",
       "  </thead>\n",
       "  <tbody>\n",
       "    <tr>\n",
       "      <th>0</th>\n",
       "      <td>44616</td>\n",
       "      <td>706908</td>\n",
       "      <td>2011-11-09</td>\n",
       "      <td>634733</td>\n",
       "      <td>Lindsay</td>\n",
       "      <td>Forget staying in a hotel. Stay at condesa hau...</td>\n",
       "    </tr>\n",
       "    <tr>\n",
       "      <th>1</th>\n",
       "      <td>628081</td>\n",
       "      <td>3055971</td>\n",
       "      <td>2012-12-11</td>\n",
       "      <td>837016</td>\n",
       "      <td>Allard</td>\n",
       "      <td>Laura's place is absolutely amazing. Just the ...</td>\n",
       "    </tr>\n",
       "    <tr>\n",
       "      <th>2</th>\n",
       "      <td>44616</td>\n",
       "      <td>2006160</td>\n",
       "      <td>2012-08-16</td>\n",
       "      <td>3087087</td>\n",
       "      <td>Samuel</td>\n",
       "      <td>Fantastic location, great place, friendly host...</td>\n",
       "    </tr>\n",
       "    <tr>\n",
       "      <th>3</th>\n",
       "      <td>44616</td>\n",
       "      <td>3174954</td>\n",
       "      <td>2012-12-28</td>\n",
       "      <td>3234920</td>\n",
       "      <td>Anna</td>\n",
       "      <td>I would highly recommend Condesa Haus for anyo...</td>\n",
       "    </tr>\n",
       "    <tr>\n",
       "      <th>4</th>\n",
       "      <td>44616</td>\n",
       "      <td>3271579</td>\n",
       "      <td>2013-01-04</td>\n",
       "      <td>2199822</td>\n",
       "      <td>Shelley And Pall</td>\n",
       "      <td>Great stay. Thanks. Highly recommend.</td>\n",
       "    </tr>\n",
       "  </tbody>\n",
       "</table>\n",
       "</div>"
      ],
      "text/plain": [
       "   listing_id       id        date  reviewer_id     reviewer_name  \\\n",
       "0       44616   706908  2011-11-09       634733           Lindsay   \n",
       "1      628081  3055971  2012-12-11       837016            Allard   \n",
       "2       44616  2006160  2012-08-16      3087087            Samuel   \n",
       "3       44616  3174954  2012-12-28      3234920              Anna   \n",
       "4       44616  3271579  2013-01-04      2199822  Shelley And Pall   \n",
       "\n",
       "                                            comments  \n",
       "0  Forget staying in a hotel. Stay at condesa hau...  \n",
       "1  Laura's place is absolutely amazing. Just the ...  \n",
       "2  Fantastic location, great place, friendly host...  \n",
       "3  I would highly recommend Condesa Haus for anyo...  \n",
       "4             Great stay. Thanks. Highly recommend.   "
      ]
     },
     "execution_count": 5,
     "metadata": {},
     "output_type": "execute_result"
    }
   ],
   "source": [
    "reviews_df.head()"
   ]
  },
  {
   "cell_type": "markdown",
   "id": "f54bdc50",
   "metadata": {
    "papermill": {
     "duration": 0.004681,
     "end_time": "2022-11-07T21:01:35.522031",
     "exception": false,
     "start_time": "2022-11-07T21:01:35.517350",
     "status": "completed"
    },
    "tags": []
   },
   "source": [
    "### Filtering Useful columns in listings df"
   ]
  },
  {
   "cell_type": "markdown",
   "id": "9962aa3d",
   "metadata": {
    "papermill": {
     "duration": 0.004286,
     "end_time": "2022-11-07T21:01:35.531250",
     "exception": false,
     "start_time": "2022-11-07T21:01:35.526964",
     "status": "completed"
    },
    "tags": []
   },
   "source": [
    "##### There exists 22948 data in listin df"
   ]
  },
  {
   "cell_type": "code",
   "execution_count": 6,
   "id": "5760e243",
   "metadata": {
    "execution": {
     "iopub.execute_input": "2022-11-07T21:01:35.542639Z",
     "iopub.status.busy": "2022-11-07T21:01:35.542250Z",
     "iopub.status.idle": "2022-11-07T21:01:35.548138Z",
     "shell.execute_reply": "2022-11-07T21:01:35.546946Z"
    },
    "papermill": {
     "duration": 0.014422,
     "end_time": "2022-11-07T21:01:35.550532",
     "exception": false,
     "start_time": "2022-11-07T21:01:35.536110",
     "status": "completed"
    },
    "tags": []
   },
   "outputs": [
    {
     "name": "stdout",
     "output_type": "stream",
     "text": [
      "['id', 'listing_url', 'scrape_id', 'last_scraped', 'source', 'name', 'description', 'neighborhood_overview', 'picture_url', 'host_id', 'host_url', 'host_name', 'host_since', 'host_location', 'host_about', 'host_response_time', 'host_response_rate', 'host_acceptance_rate', 'host_is_superhost', 'host_thumbnail_url', 'host_picture_url', 'host_neighbourhood', 'host_listings_count', 'host_total_listings_count', 'host_verifications', 'host_has_profile_pic', 'host_identity_verified', 'neighbourhood', 'neighbourhood_cleansed', 'neighbourhood_group_cleansed', 'latitude', 'longitude', 'property_type', 'room_type', 'accommodates', 'bathrooms', 'bathrooms_text', 'bedrooms', 'beds', 'amenities', 'price', 'minimum_nights', 'maximum_nights', 'minimum_minimum_nights', 'maximum_minimum_nights', 'minimum_maximum_nights', 'maximum_maximum_nights', 'minimum_nights_avg_ntm', 'maximum_nights_avg_ntm', 'calendar_updated', 'has_availability', 'availability_30', 'availability_60', 'availability_90', 'availability_365', 'calendar_last_scraped', 'number_of_reviews', 'number_of_reviews_ltm', 'number_of_reviews_l30d', 'first_review', 'last_review', 'review_scores_rating', 'review_scores_accuracy', 'review_scores_cleanliness', 'review_scores_checkin', 'review_scores_communication', 'review_scores_location', 'review_scores_value', 'license', 'instant_bookable', 'calculated_host_listings_count', 'calculated_host_listings_count_entire_homes', 'calculated_host_listings_count_private_rooms', 'calculated_host_listings_count_shared_rooms', 'reviews_per_month']\n"
     ]
    }
   ],
   "source": [
    "print(listings_df.columns.tolist())"
   ]
  },
  {
   "cell_type": "code",
   "execution_count": 7,
   "id": "be979614",
   "metadata": {
    "execution": {
     "iopub.execute_input": "2022-11-07T21:01:35.561986Z",
     "iopub.status.busy": "2022-11-07T21:01:35.561574Z",
     "iopub.status.idle": "2022-11-07T21:01:35.573822Z",
     "shell.execute_reply": "2022-11-07T21:01:35.572623Z"
    },
    "papermill": {
     "duration": 0.020436,
     "end_time": "2022-11-07T21:01:35.576060",
     "exception": false,
     "start_time": "2022-11-07T21:01:35.555624",
     "status": "completed"
    },
    "tags": []
   },
   "outputs": [
    {
     "data": {
      "text/plain": [
       "0             Mexico City, Mexico\n",
       "1             Mexico City, Mexico\n",
       "2             Mexico City, Mexico\n",
       "3             Mexico City, Mexico\n",
       "4             Mexico City, Mexico\n",
       "                   ...           \n",
       "22943    Ciudad de Mexico, Mexico\n",
       "22944         Mexico City, Mexico\n",
       "22945                         NaN\n",
       "22946                         NaN\n",
       "22947                         NaN\n",
       "Name: host_location, Length: 22948, dtype: object"
      ]
     },
     "execution_count": 7,
     "metadata": {},
     "output_type": "execute_result"
    }
   ],
   "source": [
    "listings_df[\"host_location\"]"
   ]
  },
  {
   "cell_type": "code",
   "execution_count": 8,
   "id": "873036f2",
   "metadata": {
    "execution": {
     "iopub.execute_input": "2022-11-07T21:01:35.587347Z",
     "iopub.status.busy": "2022-11-07T21:01:35.586974Z",
     "iopub.status.idle": "2022-11-07T21:01:35.594443Z",
     "shell.execute_reply": "2022-11-07T21:01:35.593121Z"
    },
    "papermill": {
     "duration": 0.01599,
     "end_time": "2022-11-07T21:01:35.597002",
     "exception": false,
     "start_time": "2022-11-07T21:01:35.581012",
     "status": "completed"
    },
    "tags": []
   },
   "outputs": [
    {
     "data": {
      "text/plain": [
       "22948"
      ]
     },
     "execution_count": 8,
     "metadata": {},
     "output_type": "execute_result"
    }
   ],
   "source": [
    "len(listings_df)"
   ]
  },
  {
   "cell_type": "code",
   "execution_count": 9,
   "id": "0876f310",
   "metadata": {
    "execution": {
     "iopub.execute_input": "2022-11-07T21:01:35.609017Z",
     "iopub.status.busy": "2022-11-07T21:01:35.608594Z",
     "iopub.status.idle": "2022-11-07T21:01:35.665144Z",
     "shell.execute_reply": "2022-11-07T21:01:35.663944Z"
    },
    "papermill": {
     "duration": 0.065326,
     "end_time": "2022-11-07T21:01:35.667559",
     "exception": false,
     "start_time": "2022-11-07T21:01:35.602233",
     "status": "completed"
    },
    "tags": []
   },
   "outputs": [
    {
     "data": {
      "text/html": [
       "<div>\n",
       "<style scoped>\n",
       "    .dataframe tbody tr th:only-of-type {\n",
       "        vertical-align: middle;\n",
       "    }\n",
       "\n",
       "    .dataframe tbody tr th {\n",
       "        vertical-align: top;\n",
       "    }\n",
       "\n",
       "    .dataframe thead th {\n",
       "        text-align: right;\n",
       "    }\n",
       "</style>\n",
       "<table border=\"1\" class=\"dataframe\">\n",
       "  <thead>\n",
       "    <tr style=\"text-align: right;\">\n",
       "      <th></th>\n",
       "      <th>0</th>\n",
       "    </tr>\n",
       "  </thead>\n",
       "  <tbody>\n",
       "    <tr>\n",
       "      <th>description</th>\n",
       "      <td>1027</td>\n",
       "    </tr>\n",
       "    <tr>\n",
       "      <th>neighborhood_overview</th>\n",
       "      <td>8416</td>\n",
       "    </tr>\n",
       "    <tr>\n",
       "      <th>host_location</th>\n",
       "      <td>4249</td>\n",
       "    </tr>\n",
       "    <tr>\n",
       "      <th>host_about</th>\n",
       "      <td>9999</td>\n",
       "    </tr>\n",
       "    <tr>\n",
       "      <th>host_response_time</th>\n",
       "      <td>2945</td>\n",
       "    </tr>\n",
       "    <tr>\n",
       "      <th>host_response_rate</th>\n",
       "      <td>2945</td>\n",
       "    </tr>\n",
       "    <tr>\n",
       "      <th>host_acceptance_rate</th>\n",
       "      <td>2465</td>\n",
       "    </tr>\n",
       "    <tr>\n",
       "      <th>host_neighbourhood</th>\n",
       "      <td>11613</td>\n",
       "    </tr>\n",
       "    <tr>\n",
       "      <th>neighbourhood</th>\n",
       "      <td>8416</td>\n",
       "    </tr>\n",
       "    <tr>\n",
       "      <th>neighbourhood_group_cleansed</th>\n",
       "      <td>22948</td>\n",
       "    </tr>\n",
       "    <tr>\n",
       "      <th>bathrooms</th>\n",
       "      <td>22948</td>\n",
       "    </tr>\n",
       "    <tr>\n",
       "      <th>bathrooms_text</th>\n",
       "      <td>47</td>\n",
       "    </tr>\n",
       "    <tr>\n",
       "      <th>bedrooms</th>\n",
       "      <td>643</td>\n",
       "    </tr>\n",
       "    <tr>\n",
       "      <th>beds</th>\n",
       "      <td>382</td>\n",
       "    </tr>\n",
       "    <tr>\n",
       "      <th>calendar_updated</th>\n",
       "      <td>22948</td>\n",
       "    </tr>\n",
       "    <tr>\n",
       "      <th>first_review</th>\n",
       "      <td>4067</td>\n",
       "    </tr>\n",
       "    <tr>\n",
       "      <th>last_review</th>\n",
       "      <td>4067</td>\n",
       "    </tr>\n",
       "    <tr>\n",
       "      <th>review_scores_rating</th>\n",
       "      <td>4067</td>\n",
       "    </tr>\n",
       "    <tr>\n",
       "      <th>review_scores_accuracy</th>\n",
       "      <td>4161</td>\n",
       "    </tr>\n",
       "    <tr>\n",
       "      <th>review_scores_cleanliness</th>\n",
       "      <td>4161</td>\n",
       "    </tr>\n",
       "    <tr>\n",
       "      <th>review_scores_checkin</th>\n",
       "      <td>4162</td>\n",
       "    </tr>\n",
       "    <tr>\n",
       "      <th>review_scores_communication</th>\n",
       "      <td>4161</td>\n",
       "    </tr>\n",
       "    <tr>\n",
       "      <th>review_scores_location</th>\n",
       "      <td>4163</td>\n",
       "    </tr>\n",
       "    <tr>\n",
       "      <th>review_scores_value</th>\n",
       "      <td>4162</td>\n",
       "    </tr>\n",
       "    <tr>\n",
       "      <th>license</th>\n",
       "      <td>22948</td>\n",
       "    </tr>\n",
       "    <tr>\n",
       "      <th>reviews_per_month</th>\n",
       "      <td>4067</td>\n",
       "    </tr>\n",
       "  </tbody>\n",
       "</table>\n",
       "</div>"
      ],
      "text/plain": [
       "                                  0\n",
       "description                    1027\n",
       "neighborhood_overview          8416\n",
       "host_location                  4249\n",
       "host_about                     9999\n",
       "host_response_time             2945\n",
       "host_response_rate             2945\n",
       "host_acceptance_rate           2465\n",
       "host_neighbourhood            11613\n",
       "neighbourhood                  8416\n",
       "neighbourhood_group_cleansed  22948\n",
       "bathrooms                     22948\n",
       "bathrooms_text                   47\n",
       "bedrooms                        643\n",
       "beds                            382\n",
       "calendar_updated              22948\n",
       "first_review                   4067\n",
       "last_review                    4067\n",
       "review_scores_rating           4067\n",
       "review_scores_accuracy         4161\n",
       "review_scores_cleanliness      4161\n",
       "review_scores_checkin          4162\n",
       "review_scores_communication    4161\n",
       "review_scores_location         4163\n",
       "review_scores_value            4162\n",
       "license                       22948\n",
       "reviews_per_month              4067"
      ]
     },
     "execution_count": 9,
     "metadata": {},
     "output_type": "execute_result"
    }
   ],
   "source": [
    "nulls = pd.DataFrame(listings_df.isnull().sum(axis = 0))\n",
    "nulls[nulls[0] > 10]"
   ]
  },
  {
   "cell_type": "code",
   "execution_count": 10,
   "id": "a10cd598",
   "metadata": {
    "execution": {
     "iopub.execute_input": "2022-11-07T21:01:35.679780Z",
     "iopub.status.busy": "2022-11-07T21:01:35.679419Z",
     "iopub.status.idle": "2022-11-07T21:01:35.688454Z",
     "shell.execute_reply": "2022-11-07T21:01:35.687199Z"
    },
    "papermill": {
     "duration": 0.018131,
     "end_time": "2022-11-07T21:01:35.691030",
     "exception": false,
     "start_time": "2022-11-07T21:01:35.672899",
     "status": "completed"
    },
    "tags": []
   },
   "outputs": [
    {
     "data": {
      "text/plain": [
       "id                                                 0\n",
       "listing_url                                        0\n",
       "scrape_id                                          0\n",
       "last_scraped                                       0\n",
       "source                                             0\n",
       "                                                ... \n",
       "calculated_host_listings_count                     0\n",
       "calculated_host_listings_count_entire_homes        0\n",
       "calculated_host_listings_count_private_rooms       0\n",
       "calculated_host_listings_count_shared_rooms        0\n",
       "reviews_per_month                               4067\n",
       "Name: 0, Length: 75, dtype: int64"
      ]
     },
     "execution_count": 10,
     "metadata": {},
     "output_type": "execute_result"
    }
   ],
   "source": [
    "nulls[0]"
   ]
  }
 ],
 "metadata": {
  "kernelspec": {
   "display_name": "Python 3",
   "language": "python",
   "name": "python3"
  },
  "language_info": {
   "codemirror_mode": {
    "name": "ipython",
    "version": 3
   },
   "file_extension": ".py",
   "mimetype": "text/x-python",
   "name": "python",
   "nbconvert_exporter": "python",
   "pygments_lexer": "ipython3",
   "version": "3.7.12"
  },
  "papermill": {
   "default_parameters": {},
   "duration": 28.698855,
   "end_time": "2022-11-07T21:01:36.619557",
   "environment_variables": {},
   "exception": null,
   "input_path": "__notebook__.ipynb",
   "output_path": "__notebook__.ipynb",
   "parameters": {},
   "start_time": "2022-11-07T21:01:07.920702",
   "version": "2.3.4"
  }
 },
 "nbformat": 4,
 "nbformat_minor": 5
}
