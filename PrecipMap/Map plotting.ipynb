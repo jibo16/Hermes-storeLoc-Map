{
 "cells": [
  {
   "cell_type": "code",
   "execution_count": 1,
   "id": "3f0d47fa",
   "metadata": {},
   "outputs": [],
   "source": [
    "import pandas as pd\n",
    "import plotly.express as px\n",
    "import folium\n",
    "import json\n",
    "from urllib.request import urlopen\n",
    "import plotly.graph_objects as go\n",
    "import plotly.figure_factory as fgp\n",
    "import numpy as np\n",
    "import seaborn as sns\n",
    "import matplotlib.pyplot as plt"
   ]
  },
  {
   "cell_type": "markdown",
   "id": "dbbea465",
   "metadata": {},
   "source": [
    "# Reading data"
   ]
  },
  {
   "cell_type": "code",
   "execution_count": 2,
   "id": "c9d9a6f1",
   "metadata": {},
   "outputs": [],
   "source": [
    "# Counties provided by fips codes\n",
    "with urlopen('https://raw.githubusercontent.com/plotly/datasets/master/geojson-counties-fips.json') as response:\n",
    "    counties = json.load(response)"
   ]
  },
  {
   "cell_type": "code",
   "execution_count": 3,
   "id": "f5fe8cfb",
   "metadata": {},
   "outputs": [],
   "source": [
    "# Retrieving cities data from geojson github\n",
    "cities_data = pd.read_csv('https://raw.githubusercontent.com/plotly/datasets/master/2014_us_cities.csv')"
   ]
  },
  {
   "cell_type": "code",
   "execution_count": 4,
   "id": "6441121d",
   "metadata": {},
   "outputs": [],
   "source": [
    "\"\"\"\n",
    "City_info: general data of the precip data process;\n",
    "    cols:\n",
    "    pop:dummy column for testing the scatter_map with scatter_geo\n",
    "\n",
    "Main_data: Information by date of the prceip max and min temperature (10+ million rows)\n",
    "\"\"\"\n",
    "city_info = pd.read_csv('./Datak/Processed_data/city_info.csv')\n",
    "city_info['pop'] =  np.random.randint(1, 40, city_info.shape[0])\n",
    "city_info = city_info.drop('Unnamed: 0',axis=1)\n",
    "\n",
    "Main_data = pd.read_pickle('./Datak/Processed_data/compiled_data.pkl')\n",
    "Main_data = Main_data.drop('Unnamed: 0',axis=1)"
   ]
  },
  {
   "cell_type": "markdown",
   "id": "a14ecce0",
   "metadata": {},
   "source": [
    "# data example "
   ]
  },
  {
   "cell_type": "code",
   "execution_count": 5,
   "id": "9675eb3d",
   "metadata": {},
   "outputs": [
    {
     "data": {
      "text/html": [
       "<div>\n",
       "<style scoped>\n",
       "    .dataframe tbody tr th:only-of-type {\n",
       "        vertical-align: middle;\n",
       "    }\n",
       "\n",
       "    .dataframe tbody tr th {\n",
       "        vertical-align: top;\n",
       "    }\n",
       "\n",
       "    .dataframe thead th {\n",
       "        text-align: right;\n",
       "    }\n",
       "</style>\n",
       "<table border=\"1\" class=\"dataframe\">\n",
       "  <thead>\n",
       "    <tr style=\"text-align: right;\">\n",
       "      <th></th>\n",
       "      <th>Name</th>\n",
       "      <th>ID</th>\n",
       "      <th>Lat</th>\n",
       "      <th>Lon</th>\n",
       "      <th>pop</th>\n",
       "    </tr>\n",
       "  </thead>\n",
       "  <tbody>\n",
       "    <tr>\n",
       "      <th>0</th>\n",
       "      <td>Lander</td>\n",
       "      <td>USW00024021</td>\n",
       "      <td>42.8153</td>\n",
       "      <td>-108.7261</td>\n",
       "      <td>6</td>\n",
       "    </tr>\n",
       "    <tr>\n",
       "      <th>1</th>\n",
       "      <td>Lander</td>\n",
       "      <td>USW00024018</td>\n",
       "      <td>42.8153</td>\n",
       "      <td>-108.7261</td>\n",
       "      <td>8</td>\n",
       "    </tr>\n",
       "    <tr>\n",
       "      <th>2</th>\n",
       "      <td>Cheyenne</td>\n",
       "      <td>USW00014897</td>\n",
       "      <td>41.1519</td>\n",
       "      <td>-104.8061</td>\n",
       "      <td>22</td>\n",
       "    </tr>\n",
       "    <tr>\n",
       "      <th>3</th>\n",
       "      <td>Cheyenne</td>\n",
       "      <td>USW00094973</td>\n",
       "      <td>41.1519</td>\n",
       "      <td>-104.8061</td>\n",
       "      <td>4</td>\n",
       "    </tr>\n",
       "    <tr>\n",
       "      <th>4</th>\n",
       "      <td>Wausau</td>\n",
       "      <td>USW00014991</td>\n",
       "      <td>44.9258</td>\n",
       "      <td>-89.6256</td>\n",
       "      <td>32</td>\n",
       "    </tr>\n",
       "  </tbody>\n",
       "</table>\n",
       "</div>"
      ],
      "text/plain": [
       "       Name           ID      Lat       Lon  pop\n",
       "0    Lander  USW00024021  42.8153 -108.7261    6\n",
       "1    Lander  USW00024018  42.8153 -108.7261    8\n",
       "2  Cheyenne  USW00014897  41.1519 -104.8061   22\n",
       "3  Cheyenne  USW00094973  41.1519 -104.8061    4\n",
       "4    Wausau  USW00014991  44.9258  -89.6256   32"
      ]
     },
     "execution_count": 5,
     "metadata": {},
     "output_type": "execute_result"
    }
   ],
   "source": [
    "city_info.head()"
   ]
  },
  {
   "cell_type": "code",
   "execution_count": 6,
   "id": "acfd28d5",
   "metadata": {},
   "outputs": [
    {
     "data": {
      "text/html": [
       "<div>\n",
       "<style scoped>\n",
       "    .dataframe tbody tr th:only-of-type {\n",
       "        vertical-align: middle;\n",
       "    }\n",
       "\n",
       "    .dataframe tbody tr th {\n",
       "        vertical-align: top;\n",
       "    }\n",
       "\n",
       "    .dataframe thead th {\n",
       "        text-align: right;\n",
       "    }\n",
       "</style>\n",
       "<table border=\"1\" class=\"dataframe\">\n",
       "  <thead>\n",
       "    <tr style=\"text-align: right;\">\n",
       "      <th></th>\n",
       "      <th>ID</th>\n",
       "      <th>Date</th>\n",
       "      <th>tmax</th>\n",
       "      <th>tmin</th>\n",
       "      <th>prcp</th>\n",
       "      <th>Name</th>\n",
       "      <th>Lat</th>\n",
       "      <th>Lon</th>\n",
       "    </tr>\n",
       "  </thead>\n",
       "  <tbody>\n",
       "    <tr>\n",
       "      <th>0</th>\n",
       "      <td>USC00042863</td>\n",
       "      <td>1894-01-01</td>\n",
       "      <td>60.0</td>\n",
       "      <td>41.0</td>\n",
       "      <td>0.00</td>\n",
       "      <td>Reno</td>\n",
       "      <td>39.4839</td>\n",
       "      <td>-119.7711</td>\n",
       "    </tr>\n",
       "    <tr>\n",
       "      <th>1</th>\n",
       "      <td>USC00042863</td>\n",
       "      <td>1894-01-02</td>\n",
       "      <td>58.0</td>\n",
       "      <td>50.0</td>\n",
       "      <td>0.40</td>\n",
       "      <td>Reno</td>\n",
       "      <td>39.4839</td>\n",
       "      <td>-119.7711</td>\n",
       "    </tr>\n",
       "    <tr>\n",
       "      <th>2</th>\n",
       "      <td>USC00042863</td>\n",
       "      <td>1894-01-03</td>\n",
       "      <td>57.0</td>\n",
       "      <td>42.0</td>\n",
       "      <td>0.00</td>\n",
       "      <td>Reno</td>\n",
       "      <td>39.4839</td>\n",
       "      <td>-119.7711</td>\n",
       "    </tr>\n",
       "    <tr>\n",
       "      <th>3</th>\n",
       "      <td>USC00042863</td>\n",
       "      <td>1894-01-04</td>\n",
       "      <td>53.0</td>\n",
       "      <td>42.0</td>\n",
       "      <td>0.28</td>\n",
       "      <td>Reno</td>\n",
       "      <td>39.4839</td>\n",
       "      <td>-119.7711</td>\n",
       "    </tr>\n",
       "    <tr>\n",
       "      <th>4</th>\n",
       "      <td>USC00042863</td>\n",
       "      <td>1894-01-05</td>\n",
       "      <td>50.0</td>\n",
       "      <td>38.0</td>\n",
       "      <td>0.00</td>\n",
       "      <td>Reno</td>\n",
       "      <td>39.4839</td>\n",
       "      <td>-119.7711</td>\n",
       "    </tr>\n",
       "  </tbody>\n",
       "</table>\n",
       "</div>"
      ],
      "text/plain": [
       "            ID        Date  tmax  tmin  prcp  Name      Lat       Lon\n",
       "0  USC00042863  1894-01-01  60.0  41.0  0.00  Reno  39.4839 -119.7711\n",
       "1  USC00042863  1894-01-02  58.0  50.0  0.40  Reno  39.4839 -119.7711\n",
       "2  USC00042863  1894-01-03  57.0  42.0  0.00  Reno  39.4839 -119.7711\n",
       "3  USC00042863  1894-01-04  53.0  42.0  0.28  Reno  39.4839 -119.7711\n",
       "4  USC00042863  1894-01-05  50.0  38.0  0.00  Reno  39.4839 -119.7711"
      ]
     },
     "execution_count": 6,
     "metadata": {},
     "output_type": "execute_result"
    }
   ],
   "source": [
    "Main_data.head()"
   ]
  },
  {
   "cell_type": "code",
   "execution_count": 7,
   "id": "6a251318",
   "metadata": {
    "scrolled": true
   },
   "outputs": [
    {
     "data": {
      "text/html": [
       "<div>\n",
       "<style scoped>\n",
       "    .dataframe tbody tr th:only-of-type {\n",
       "        vertical-align: middle;\n",
       "    }\n",
       "\n",
       "    .dataframe tbody tr th {\n",
       "        vertical-align: top;\n",
       "    }\n",
       "\n",
       "    .dataframe thead th {\n",
       "        text-align: right;\n",
       "    }\n",
       "</style>\n",
       "<table border=\"1\" class=\"dataframe\">\n",
       "  <thead>\n",
       "    <tr style=\"text-align: right;\">\n",
       "      <th></th>\n",
       "      <th>name</th>\n",
       "      <th>pop</th>\n",
       "      <th>lat</th>\n",
       "      <th>lon</th>\n",
       "    </tr>\n",
       "  </thead>\n",
       "  <tbody>\n",
       "    <tr>\n",
       "      <th>0</th>\n",
       "      <td>New York</td>\n",
       "      <td>8287238</td>\n",
       "      <td>40.730599</td>\n",
       "      <td>-73.986581</td>\n",
       "    </tr>\n",
       "    <tr>\n",
       "      <th>1</th>\n",
       "      <td>Los Angeles</td>\n",
       "      <td>3826423</td>\n",
       "      <td>34.053717</td>\n",
       "      <td>-118.242727</td>\n",
       "    </tr>\n",
       "    <tr>\n",
       "      <th>2</th>\n",
       "      <td>Chicago</td>\n",
       "      <td>2705627</td>\n",
       "      <td>41.875555</td>\n",
       "      <td>-87.624421</td>\n",
       "    </tr>\n",
       "    <tr>\n",
       "      <th>3</th>\n",
       "      <td>Houston</td>\n",
       "      <td>2129784</td>\n",
       "      <td>29.758938</td>\n",
       "      <td>-95.367697</td>\n",
       "    </tr>\n",
       "    <tr>\n",
       "      <th>4</th>\n",
       "      <td>Philadelphia</td>\n",
       "      <td>1539313</td>\n",
       "      <td>39.952335</td>\n",
       "      <td>-75.163789</td>\n",
       "    </tr>\n",
       "  </tbody>\n",
       "</table>\n",
       "</div>"
      ],
      "text/plain": [
       "            name      pop        lat         lon\n",
       "0      New York   8287238  40.730599  -73.986581\n",
       "1   Los Angeles   3826423  34.053717 -118.242727\n",
       "2       Chicago   2705627  41.875555  -87.624421\n",
       "3       Houston   2129784  29.758938  -95.367697\n",
       "4  Philadelphia   1539313  39.952335  -75.163789"
      ]
     },
     "execution_count": 7,
     "metadata": {},
     "output_type": "execute_result"
    }
   ],
   "source": [
    "cities_data.head()"
   ]
  },
  {
   "cell_type": "markdown",
   "id": "fcd65ad9",
   "metadata": {},
   "source": [
    "## exploratory analysis of cities_data pop"
   ]
  },
  {
   "cell_type": "code",
   "execution_count": 8,
   "id": "9f056c21",
   "metadata": {},
   "outputs": [
    {
     "data": {
      "text/html": [
       "<div>\n",
       "<style scoped>\n",
       "    .dataframe tbody tr th:only-of-type {\n",
       "        vertical-align: middle;\n",
       "    }\n",
       "\n",
       "    .dataframe tbody tr th {\n",
       "        vertical-align: top;\n",
       "    }\n",
       "\n",
       "    .dataframe thead th {\n",
       "        text-align: right;\n",
       "    }\n",
       "</style>\n",
       "<table border=\"1\" class=\"dataframe\">\n",
       "  <thead>\n",
       "    <tr style=\"text-align: right;\">\n",
       "      <th></th>\n",
       "      <th>name</th>\n",
       "      <th>pop</th>\n",
       "      <th>lat</th>\n",
       "      <th>lon</th>\n",
       "    </tr>\n",
       "  </thead>\n",
       "  <tbody>\n",
       "    <tr>\n",
       "      <th>0</th>\n",
       "      <td>New York</td>\n",
       "      <td>8287238</td>\n",
       "      <td>40.730599</td>\n",
       "      <td>-73.986581</td>\n",
       "    </tr>\n",
       "    <tr>\n",
       "      <th>1</th>\n",
       "      <td>Los Angeles</td>\n",
       "      <td>3826423</td>\n",
       "      <td>34.053717</td>\n",
       "      <td>-118.242727</td>\n",
       "    </tr>\n",
       "    <tr>\n",
       "      <th>2</th>\n",
       "      <td>Chicago</td>\n",
       "      <td>2705627</td>\n",
       "      <td>41.875555</td>\n",
       "      <td>-87.624421</td>\n",
       "    </tr>\n",
       "    <tr>\n",
       "      <th>3</th>\n",
       "      <td>Houston</td>\n",
       "      <td>2129784</td>\n",
       "      <td>29.758938</td>\n",
       "      <td>-95.367697</td>\n",
       "    </tr>\n",
       "    <tr>\n",
       "      <th>4</th>\n",
       "      <td>Philadelphia</td>\n",
       "      <td>1539313</td>\n",
       "      <td>39.952335</td>\n",
       "      <td>-75.163789</td>\n",
       "    </tr>\n",
       "  </tbody>\n",
       "</table>\n",
       "</div>"
      ],
      "text/plain": [
       "            name      pop        lat         lon\n",
       "0      New York   8287238  40.730599  -73.986581\n",
       "1   Los Angeles   3826423  34.053717 -118.242727\n",
       "2       Chicago   2705627  41.875555  -87.624421\n",
       "3       Houston   2129784  29.758938  -95.367697\n",
       "4  Philadelphia   1539313  39.952335  -75.163789"
      ]
     },
     "execution_count": 8,
     "metadata": {},
     "output_type": "execute_result"
    }
   ],
   "source": [
    "# Creating a rule where all the cities with the quantile > 0.25 are accepted\n",
    "citiesN = cities_data.copy()\n",
    "city_quantiles = citiesN.quantile([0.25,0.50,0.75])\n",
    "citiesN25 = citiesN[citiesN['pop'] > city_quantiles['pop'][0.25]]\n",
    "q25 = citiesN25.quantile([0.25])\n",
    "citiesN25 = citiesN25[citiesN25['pop'] > q25['pop'][0.25]]\n",
    "citiesN25.head()"
   ]
  },
  {
   "cell_type": "markdown",
   "id": "ff92ba7e",
   "metadata": {},
   "source": [
    "# Plotting the station points in different types of map for analyzing the functionality of each strategy"
   ]
  },
  {
   "cell_type": "markdown",
   "id": "ab4f7158",
   "metadata": {},
   "source": [
    "# Cities_data plotting preprocess"
   ]
  },
  {
   "cell_type": "code",
   "execution_count": 12,
   "id": "1c95a580",
   "metadata": {},
   "outputs": [],
   "source": [
    "citiesN25_lat = citiesN25['lat']\n",
    "citiesN25_lon = citiesN25['lon']\n",
    "citiesN25_names = citiesN25['name']"
   ]
  },
  {
   "cell_type": "code",
   "execution_count": 10,
   "id": "30a8dda0",
   "metadata": {},
   "outputs": [],
   "source": [
    "city_lat = city_info.Lat\n",
    "city_Lon = city_info.Lon\n",
    "city_names = city_info.Name\n",
    "d1 =city_info['Lat'][1]\n",
    "d2 = city_info['Lon'][1]\n",
    "cities_data_lat = cities_data.lat\n",
    "cities_data_lon = cities_data.lon"
   ]
  },
  {
   "cell_type": "code",
   "execution_count": 11,
   "id": "8dc9514d",
   "metadata": {
    "scrolled": true
   },
   "outputs": [],
   "source": [
    "m = folium.Map(location=[d1,d2], tiles='OpenStreetMap')\n",
    "for i in range(len(city_info)):\n",
    "    folium.Marker(\n",
    "    [city_lat[i], city_Lon[i]],\n",
    "    popup=f\"{city_info.Name[i]}\",\n",
    "    fill=True,\n",
    "    fill_color=\"#3186cc\",\n",
    "    size=5\n",
    ").add_to(m)\n",
    "    folium.Circle(\n",
    "    [city_lat[i], city_Lon[i]],\n",
    "    radius=50,\n",
    "    popup=f\"{city_info.Name[i]}\",\n",
    "    fill=True,\n",
    "    fill_color=\"#3186cc\",\n",
    "    size=5\n",
    ").add_to(m)\n"
   ]
  },
  {
   "cell_type": "markdown",
   "id": "5bfcca10",
   "metadata": {
    "scrolled": true
   },
   "source": [
    "fig = go.Figure(px.scatter_geo(lat=city_lat,lon=city_Lon,text=city_names,size=city_info['pop']))\n",
    "fig.update_geos(scope='usa',lataxis_showgrid=True)\n"
   ]
  }
 ],
 "metadata": {
  "kernelspec": {
   "display_name": "Python 3 (ipykernel)",
   "language": "python",
   "name": "python3"
  },
  "language_info": {
   "codemirror_mode": {
    "name": "ipython",
    "version": 3
   },
   "file_extension": ".py",
   "mimetype": "text/x-python",
   "name": "python",
   "nbconvert_exporter": "python",
   "pygments_lexer": "ipython3",
   "version": "3.9.2"
  }
 },
 "nbformat": 4,
 "nbformat_minor": 5
}
