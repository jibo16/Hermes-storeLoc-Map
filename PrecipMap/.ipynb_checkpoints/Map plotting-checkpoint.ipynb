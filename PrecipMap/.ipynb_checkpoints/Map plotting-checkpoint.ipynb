{
 "cells": [
  {
   "cell_type": "code",
   "execution_count": 40,
   "id": "3f0d47fa",
   "metadata": {},
   "outputs": [],
   "source": [
    "import pandas as pd\n",
    "import plotly.express as px\n",
    "import folium\n",
    "import json\n",
    "from urllib.request import urlopen\n",
    "import plotly.graph_objects as go\n",
    "import plotly.figure_factory as fgp\n",
    "import numpy as np\n",
    "import seaborn as sns\n",
    "import matplotlib.pyplot as plt"
   ]
  },
  {
   "cell_type": "markdown",
   "id": "dbbea465",
   "metadata": {},
   "source": [
    "# Reading data"
   ]
  },
  {
   "cell_type": "code",
   "execution_count": 41,
   "id": "c9d9a6f1",
   "metadata": {},
   "outputs": [],
   "source": [
    "# Counties provided by fips codes\n",
    "with urlopen('https://raw.githubusercontent.com/plotly/datasets/master/geojson-counties-fips.json') as response:\n",
    "    counties = json.load(response)"
   ]
  },
  {
   "cell_type": "code",
   "execution_count": 42,
   "id": "f5fe8cfb",
   "metadata": {},
   "outputs": [],
   "source": [
    "# Retrieving cities data from geojson github\n",
    "cities_data = pd.read_csv('https://raw.githubusercontent.com/plotly/datasets/master/2014_us_cities.csv')"
   ]
  },
  {
   "cell_type": "code",
   "execution_count": null,
   "id": "6441121d",
   "metadata": {},
   "outputs": [],
   "source": [
    "\"\"\"\n",
    "City_info: general data of the precip data process;\n",
    "    cols:\n",
    "    pop:dummy column for testing the scatter_map with scatter_geo\n",
    "\n",
    "Main_data: Information by date of the prceip max and min temperature (10+ million rows)\n",
    "\"\"\"\n",
    "city_info = pd.read_csv('./Datak/Processed_data/city_info.csv')\n",
    "city_info['pop'] =  np.random.randint(1, 40, city_info.shape[0])\n",
    "city_info = city_info.drop('Unnamed: 0',axis=1)\n",
    "\n",
    "Main_data = pd.read_pickle('./Datak/Processed_data/compiled_data.pkl')\n",
    "Main_data = Main_data.drop('Unnamed: 0',axis=1)"
   ]
  },
  {
   "cell_type": "markdown",
   "id": "a14ecce0",
   "metadata": {},
   "source": [
    "# data example "
   ]
  },
  {
   "cell_type": "code",
   "execution_count": null,
   "id": "9675eb3d",
   "metadata": {},
   "outputs": [],
   "source": [
    "city_info.head()"
   ]
  },
  {
   "cell_type": "code",
   "execution_count": null,
   "id": "acfd28d5",
   "metadata": {},
   "outputs": [],
   "source": [
    "Main_data.head()"
   ]
  },
  {
   "cell_type": "code",
   "execution_count": null,
   "id": "6a251318",
   "metadata": {
    "scrolled": true
   },
   "outputs": [],
   "source": [
    "cities_data.head()"
   ]
  },
  {
   "cell_type": "markdown",
   "id": "fcd65ad9",
   "metadata": {},
   "source": [
    "## exploratory analysis of cities_data pop"
   ]
  },
  {
   "cell_type": "code",
   "execution_count": null,
   "id": "9f056c21",
   "metadata": {},
   "outputs": [],
   "source": [
    "# Creating a rule where all the cities with the quantile > 0.25 are accepted\n",
    "citiesN = cities_data.copy()\n",
    "city_quantiles = citiesN.quantile([0.25,0.50,0.75])\n",
    "citiesN25 = citiesN[citiesN['pop'] > city_quantiles['pop'][0.25]]\n",
    "q25 = citiesN25.quantile([0.25])\n",
    "citiesN25 = citiesN25[citiesN25['pop'] > q25['pop'][0.25]]\n",
    "citiesN25.head()"
   ]
  },
  {
   "cell_type": "markdown",
   "id": "ff92ba7e",
   "metadata": {},
   "source": [
    "# Plotting the station points in different types of map for analyzing the functionality of each strategy"
   ]
  },
  {
   "cell_type": "markdown",
   "id": "dd5c606b",
   "metadata": {},
   "source": [
    "# Cities_data plotting preprocess"
   ]
  },
  {
   "cell_type": "code",
   "execution_count": null,
   "id": "ea7c905c",
   "metadata": {},
   "outputs": [],
   "source": [
    "citiesN25_lat = citiesN25['lat']"
   ]
  },
  {
   "cell_type": "code",
   "execution_count": null,
   "id": "30a8dda0",
   "metadata": {},
   "outputs": [],
   "source": [
    "city_lat = city_info.Lat\n",
    "city_Lon = city_info.Lon\n",
    "city_names = city_info.Name\n",
    "d1 =city_info['Lat'][1]\n",
    "d2 = city_info['Lon'][1]\n",
    "cities_data_lat = cities_data.lat\n",
    "cities_data_lon = cities_data.lon"
   ]
  },
  {
   "cell_type": "code",
   "execution_count": null,
   "id": "8dc9514d",
   "metadata": {
    "scrolled": true
   },
   "outputs": [],
   "source": [
    "m = folium.Map(location=[d1,d2], tiles='OpenStreetMap')\n",
    "for i in range(len(city_info)):\n",
    "    folium.Marker(\n",
    "    [city_lat[i], city_Lon[i]],\n",
    "    popup=f\"{city_info.Name[i]}\",\n",
    "    fill=True,\n",
    "    fill_color=\"#3186cc\",\n",
    "    size=5\n",
    ").add_to(m)\n",
    "    folium.Circle(\n",
    "    [city_lat[i], city_Lon[i]],\n",
    "    radius=50,\n",
    "    popup=f\"{city_info.Name[i]}\",\n",
    "    fill=True,\n",
    "    fill_color=\"#3186cc\",\n",
    "    size=5\n",
    ").add_to(m)\n"
   ]
  },
  {
   "cell_type": "markdown",
   "id": "e0df8a24",
   "metadata": {
    "scrolled": true
   },
   "source": [
    "fig = go.Figure(px.scatter_geo(lat=city_lat,lon=city_Lon,text=city_names,size=city_info['pop']))\n",
    "fig.update_geos(scope='usa',lataxis_showgrid=True)\n"
   ]
  }
 ],
 "metadata": {
  "kernelspec": {
   "display_name": "Python 3 (ipykernel)",
   "language": "python",
   "name": "python3"
  },
  "language_info": {
   "codemirror_mode": {
    "name": "ipython",
    "version": 3
   },
   "file_extension": ".py",
   "mimetype": "text/x-python",
   "name": "python",
   "nbconvert_exporter": "python",
   "pygments_lexer": "ipython3",
   "version": "3.9.2"
  }
 },
 "nbformat": 4,
 "nbformat_minor": 5
}
