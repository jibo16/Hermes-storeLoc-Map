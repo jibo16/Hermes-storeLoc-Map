{
 "cells": [
  {
   "cell_type": "code",
   "execution_count": 1,
   "id": "interpreted-missouri",
   "metadata": {},
   "outputs": [],
   "source": [
    "import pandas as pd\n",
    "import folium"
   ]
  },
  {
   "cell_type": "code",
   "execution_count": 2,
   "id": "19b96a71",
   "metadata": {},
   "outputs": [],
   "source": [
    "HermData = pd.read_csv(\"Dataset/hermes_2018_11_06.csv\").drop(columns=['url','phone_number_2','fax_2','email_1','email_2','website',\\\n",
    "                                                                     'facebook','twitter','instagram','pinterest','youtube']).dropna().reset_index()\n",
    "HermData.head(5)"
   ]
  },
  {
   "cell_type": "code",
   "execution_count": 3,
   "id": "c63d6ad7",
   "metadata": {},
   "outputs": [],
   "source": [
    "d1 =HermData['latitude'][1]\n",
    "d2 = HermData['longitude'][1]\n",
    "lat = HermData.latitude\n",
    "lot = HermData.longitude"
   ]
  },
  {
   "cell_type": "code",
   "execution_count": 4,
   "id": "2193bbe4",
   "metadata": {},
   "outputs": [],
   "source": [
    "m = folium.Map(location=[d1,d2], tiles='OpenStreetMap')\n",
    "for i in range(len(HermData)):\n",
    "    folium.Circle(\n",
    "    [lat[i], lot[i]], popup=\"<b>{}</b>,\\n<b>{}</b>\".format(HermData['name'][i],HermData['street_address'][i]),\n",
    "    fill=True,\n",
    "    fill_color=\"#3186cc\",\n",
    ").add_to(m)\n",
    "m\n"
   ]
  },
  {
   "cell_type": "code",
   "execution_count": 5,
   "id": "a72e065d",
   "metadata": {},
   "outputs": [],
   "source": [
    "m.save('Hermes.html')"
   ]
  }
 ],
 "metadata": {
  "kernelspec": {
   "display_name": "Python 3 (ipykernel)",
   "language": "python",
   "name": "python3"
  },
  "language_info": {
   "codemirror_mode": {
    "name": "ipython",
    "version": 3
   },
   "file_extension": ".py",
   "mimetype": "text/x-python",
   "name": "python",
   "nbconvert_exporter": "python",
   "pygments_lexer": "ipython3",
   "version": "3.9.2"
  }
 },
 "nbformat": 4,
 "nbformat_minor": 5
}
